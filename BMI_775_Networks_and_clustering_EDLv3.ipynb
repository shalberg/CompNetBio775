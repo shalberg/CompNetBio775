{
 "cells": [
  {
   "cell_type": "markdown",
   "id": "1ffa8a0a-0769-4904-99a8-2840265186dd",
   "metadata": {},
   "source": [
    "## Topological properties of graphs & graph clustering\n"
   ]
  },
  {
   "cell_type": "markdown",
   "id": "363cc2c0-b5db-471a-b711-0f9197e78553",
   "metadata": {},
   "source": [
    "__BMI/CS 775: Computation Network Biology__ <br>\n",
    "October 17th, 2024 <br>\n",
    "Spencer Halberg-Spencer & Erika Lee <br>\n",
    "https://compnetbiocourse.discovery.wisc.edu "
   ]
  },
  {
   "cell_type": "markdown",
   "id": "775b3fc8-7f44-49c2-817e-a1f7101dfcfa",
   "metadata": {},
   "source": [
    "Today's lecture will cover: \n",
    "1. Commonly measured network properties\n",
    "    1. Degree distribution\n",
    "    2. Modularity of biological networks\n",
    "2. Algorithms to find modules on graphs\n",
    "    1. Louvain clustering\n",
    "    2. Hierarchical clustering \n",
    "    3. Spectral clustering\n",
    "\n",
    "This jupyter notebook will act as an aid and explanation of each of these learning objectives. "
   ]
  },
  {
   "cell_type": "code",
   "execution_count": 1,
   "id": "c071f2bf-9ad1-4659-9747-0c5f7f337e94",
   "metadata": {},
   "outputs": [
    {
     "ename": "ModuleNotFoundError",
     "evalue": "No module named 'scanpy'",
     "output_type": "error",
     "traceback": [
      "\u001b[0;31m---------------------------------------------------------------------------\u001b[0m",
      "\u001b[0;31mModuleNotFoundError\u001b[0m                       Traceback (most recent call last)",
      "Cell \u001b[0;32mIn[1], line 6\u001b[0m\n\u001b[1;32m      4\u001b[0m \u001b[38;5;28;01mfrom\u001b[39;00m \u001b[38;5;21;01mmatplotlib\u001b[39;00m \u001b[38;5;28;01mimport\u001b[39;00m cm\n\u001b[1;32m      5\u001b[0m \u001b[38;5;28;01mfrom\u001b[39;00m \u001b[38;5;21;01msklearn\u001b[39;00m\u001b[38;5;21;01m.\u001b[39;00m\u001b[38;5;21;01mcluster\u001b[39;00m \u001b[38;5;28;01mimport\u001b[39;00m KMeans\n\u001b[0;32m----> 6\u001b[0m \u001b[38;5;28;01mimport\u001b[39;00m \u001b[38;5;21;01mscanpy\u001b[39;00m \u001b[38;5;28;01mas\u001b[39;00m \u001b[38;5;21;01msp\u001b[39;00m\n\u001b[1;32m      7\u001b[0m \u001b[38;5;28;01mimport\u001b[39;00m \u001b[38;5;21;01mmath\u001b[39;00m\n\u001b[1;32m      8\u001b[0m \u001b[38;5;28;01mimport\u001b[39;00m \u001b[38;5;21;01migraph\u001b[39;00m \u001b[38;5;28;01mas\u001b[39;00m \u001b[38;5;21;01mig\u001b[39;00m\n",
      "\u001b[0;31mModuleNotFoundError\u001b[0m: No module named 'scanpy'"
     ]
    }
   ],
   "source": [
    "import numpy as np \n",
    "import matplotlib.pyplot as plt\n",
    "from matplotlib.colors import Normalize\n",
    "from matplotlib import cm\n",
    "from sklearn.cluster import KMeans\n",
    "import scipy as sp\n",
    "import math\n",
    "import igraph as ig\n",
    "import pandas as pd\n",
    "from ipywidgets import interact, IntSlider, FloatSlider, interactive"
   ]
  },
  {
   "cell_type": "markdown",
   "id": "ede0414c-f08d-4bc6-9cb7-5fa7b1b8674b",
   "metadata": {},
   "source": [
    "### Degree Distributions"
   ]
  },
  {
   "cell_type": "markdown",
   "id": "68b48b68-1203-47c1-916d-8b0674e20c4c",
   "metadata": {},
   "source": [
    "Our first learning objective is to explore the degree distributions of graphs. Recall the node degree distribution is defined as the following. \n",
    "* Undirected network: the degree of node $i$ is defined as the number of edges that connect $i$ to a neighbor, $j$. Alternately, the degree of node $i$ is the number of edges connected to node $i$. \n",
    "* Directed network: we consider an edge $<i,j>$ outgoing from node $i$ and incoming to node $j$. We can consider two values for directed networks. \n",
    "    * In degree: For node $j$, it is the number of edges that are incoming to node $j$. \n",
    "    * Out degree: For node $i$, it is the number of edges that are outgoing from node $i$. "
   ]
  },
  {
   "cell_type": "markdown",
   "id": "6ddc3f20-49ba-45c2-a076-bddacfdee6a5",
   "metadata": {},
   "source": [
    "We can quantify global properperties of the graph using node degrees. The most straightforward measure of the connectivity of a graph is the average degree. Consider an undirected graph with $N$ nodes. Let $k_i$ denote the degree of node $i$. The average degree is: \n",
    "\n",
    "$$<k> = \\frac{\\sum_{i=1}^{N} k_i}{N}$$ "
   ]
  },
  {
   "cell_type": "markdown",
   "id": "184492d8-d736-4148-865f-d99adf431029",
   "metadata": {},
   "source": [
    "While this measure gives a simple way of comparing graphs, it does not indicate the variability of degree among nodes within a single network. This variability is an important property of graphs, especially when trying to identify nodes which are highly connected. Instead, we can consider the *degree distribution*. \n",
    "\n",
    "* Degree distribution : The probability $P(k)$ that a node has $k$ edges. Generally this is computed empirically for a given graph.\n",
    "\n",
    "We can compare the distribution between graphs to get a better understanding of how nodes are connected globally.  Today we will cover two improtant degree distributions: the Poisson distribution and the power law (scale-free distribution). "
   ]
  },
  {
   "cell_type": "markdown",
   "id": "41bfc9a0-6ea0-4221-a669-e998e33ac65c",
   "metadata": {},
   "source": [
    "### Poisson distributions and Erdos-Renyi Graphs\n",
    "The Poisson distribution is a discete distribution parameterized by the following equation: \n",
    "\n",
    "$$ P( X = k ) = \\frac{\\lambda^{k}e^{-\\lambda}}{k!}$$  \n",
    "\n",
    "A few important points about the poisson distribution and graph degree: \n",
    "* $\\lambda$ represents the expected value of $X$, as well as the variance of $X$. \n",
    "* We can estimate $\\lambda$ using the maximum likelihood estimator, which is equivelent to the average node degree, $\\lambda_{MLE} = \\frac{\\sum_{i=1}^{N} k_i}{N}$\n",
    "* The MLE estimator of $\\lambda$ is an unbiased estimator of $\\lambda$. This works well when $N$ is sufficiently large.   \n"
   ]
  },
  {
   "cell_type": "markdown",
   "id": "57b85f45-57d0-4aab-845b-cc4993044b9d",
   "metadata": {},
   "source": [
    "An *Erdos-Renyi graph* is a graph generated from a probalilistic process. Given $N$ nodes, the graph generation model is specified by the probability that an edge exists between two nodes with probability $p$. Such graphs have Poisson degree distributions.\n",
    "\n",
    "The Erdos-Renyi graph generation models is implemented in the igraph package. We will be useing the following implementation *ig.Graph.Erdos_Renyi(n, p, directed, loops)*. This implementation takes in the following parameters: \n",
    "1. n: The number of nodes in the graph. \n",
    "2. p: The probability that an edge exists between any two nodes. The probability of a given edges is indepedent of all other edges. \n",
    "3. directed: A boolean indicating if we want an directed or undirected graph. (default = False). \n",
    "4. loops: If we want the graph to include edges that exist between a single node, eg (i, i). (default = False). \n",
    "\n",
    "In the next code block, I generated four different graphs with 30 nodes, and varying probabilities of an edge."
   ]
  },
  {
   "cell_type": "code",
   "execution_count": null,
   "id": "2050a88b-3719-43b8-bda6-61a8421bcffa",
   "metadata": {},
   "outputs": [],
   "source": [
    "g1 = ig.Graph.Erdos_Renyi(n = 30, p = 0.05, directed = False, loops = False)\n",
    "g2 = ig.Graph.Erdos_Renyi(n = 30, p = 0.10, directed = False, loops = False)\n",
    "g3 = ig.Graph.Erdos_Renyi(n = 30, p = 0.25, directed = False, loops = False)\n",
    "g4 = ig.Graph.Erdos_Renyi(n = 30, p = 0.40, directed = False, loops = False)\n",
    "\n",
    "\n",
    "\n",
    "fig, axs = plt.subplots(2, 2)\n",
    "fig.set_size_inches(12, 10)\n",
    "axs[0, 0].set_title('n = 30, p = 0.05')\n",
    "axs[0, 1].set_title('n = 30, p = 0.10')\n",
    "axs[1, 0].set_title('n = 30, p = 0.25')\n",
    "axs[1, 1].set_title('n = 30, p = 0.40')\n",
    "\n",
    "ig.plot(\n",
    "    g1,\n",
    "    target=axs[0, 0],\n",
    "    layout=\"circle\",\n",
    "    vertex_color=\"lightblue\", \n",
    "    vertex_size = 8\n",
    ")\n",
    "\n",
    "ig.plot(\n",
    "    g2,\n",
    "    target=axs[0, 1],\n",
    "    layout=\"circle\",\n",
    "    vertex_color=\"lightblue\", \n",
    "    vertex_size = 8\n",
    ")\n",
    "\n",
    "ig.plot(\n",
    "    g3,\n",
    "    target=axs[1, 0],\n",
    "    layout=\"circle\",\n",
    "    vertex_color=\"lightblue\", \n",
    "    vertex_size = 8\n",
    ")\n",
    "\n",
    "ig.plot(\n",
    "    g4,\n",
    "    target=axs[1, 1],\n",
    "    layout=\"circle\",\n",
    "    vertex_color=\"lightblue\", \n",
    "    vertex_size = 8\n",
    ")\n",
    "plt.show()"
   ]
  },
  {
   "cell_type": "markdown",
   "id": "2eb02681-593a-4f3b-9f9c-877707a24328",
   "metadata": {},
   "source": [
    "We can explore distribution of each plot using the plot_degree_dist function below. This function takes in an igraph object and generates a normalized histogram which displays the probability of observing a node with degree i. This distribution is estimated empirically for each graph. \n",
    "\n",
    "We can compare the emipirically estimated distribution to the estimated Poisson distribution for each graph. The probability mass function for the Poisson distribution can be added to a plot using the plot_poisson function below. "
   ]
  },
  {
   "cell_type": "code",
   "execution_count": null,
   "id": "4d9b5c50-905b-4d35-b06f-3c395286ff22",
   "metadata": {},
   "outputs": [],
   "source": [
    "### Define a function that plots the degree distribution for a given graph. \n",
    "def plot_degree_dist(igraph_obj):\n",
    "    degree = igraph_obj.degree() \n",
    "    ### Give a vector which denotes the degree of each node. \n",
    "    plt.hist(degree, [ x - 0.5 for x in range(0, max(degree) + 2, 1)], density = True, color = 'black') ## Make bins surronding each integer and count the number of nodes with each degree.\n",
    "    plt.xlim(right = max(degree)+ 0.5 )\n",
    "    if(max(degree) <= 10):    \n",
    "        plt.xticks([x for x in range(0, max(degree)+1)])  ## With small degree, we can enumerate all values on axis. \n",
    "        \n",
    "### Define a function that plots the poisson probability mass function (the equation from above)\n",
    "def plot_poisson(l, max_disp):\n",
    "    x  = np.arange(0, max_disp+1)\n",
    "    ## Computed by hand so you can see how. Math fact, will overflow for relatively small k so we need to also include the a call to the stats package. \n",
    "    if(max_disp <= 50):\n",
    "        prob = [(l**k) * np.exp(-l) / math.factorial(k) for k in x]\n",
    "        plt.plot(x, prob, 'rx--') ### Plot the poisson distribution \n",
    "    else:\n",
    "        ## This also just computes the poisson probability distribution but we don't worry about overflow. \n",
    "        prob = sp.stats.poisson.pmf(x, mu = l)   \n",
    "        plt.plot(x, prob, 'r--')\n",
    "    \n",
    "            "
   ]
  },
  {
   "cell_type": "code",
   "execution_count": null,
   "id": "44f85c4a-6463-4c48-8723-b0ac619fcefd",
   "metadata": {},
   "outputs": [],
   "source": [
    "fig, axs = plt.subplots(2, 2)\n",
    "fig.set_size_inches(12, 10)\n",
    "plt.sca(axs[0,0]) ## Set active plot \n",
    "axs[0,0].set_title('n = 30, p = 0.05')\n",
    "plot_degree_dist(g1)\n",
    "plot_poisson(np.mean(g1.degree()), max(g1.degree()))\n",
    "\n",
    "\n",
    "plt.sca(axs[0,1]) ## Set active plot \n",
    "axs[0, 1].set_title('n = 30, p = 0.10')\n",
    "plot_degree_dist(g2)\n",
    "plot_poisson(np.mean(g2.degree()), max(g2.degree()))\n",
    "\n",
    "\n",
    "plt.sca(axs[1,0]) ## Set active plot \n",
    "axs[1, 0].set_title('n = 30, p = 0.25')\n",
    "plot_degree_dist(g3)\n",
    "plot_poisson(np.mean(g3.degree()), max(g3.degree()))\n",
    "\n",
    "plt.sca(axs[1,1]) ## Set active plot \n",
    "axs[1, 1].set_title('n = 30, p = 0.40')\n",
    "plot_degree_dist(g4)\n",
    "plot_poisson(np.mean(g4.degree()), max(g4.degree()))"
   ]
  },
  {
   "cell_type": "code",
   "execution_count": null,
   "id": "fb09691b-879b-4207-9ada-3a4b1283acb6",
   "metadata": {},
   "outputs": [],
   "source": [
    "\n",
    "# Function to generate Erdos-Renyi graph and plot results\n",
    "def plot_erdos_renyi_graph(n, p):\n",
    "    # Generate a random Erdos-Renyi graph\n",
    "    graph = ig.Graph.Erdos_Renyi(n=n, p=p)\n",
    "\n",
    "    # Get degree distribution\n",
    "    degrees = graph.degree()\n",
    "    mean_degree = np.mean(degrees)\n",
    "\n",
    "    # Plot the graph\n",
    "    fig, axs = plt.subplots(1, 2)\n",
    "    fig.set_size_inches(12, 10)\n",
    "\n",
    "    # Plot 1: Graph visualization\n",
    "    ig.plot(graph, target=axs[0], vertex_size=3, edgewidth = 0.15,  layout='kk')\n",
    "    plt.title(\"Erdos-Renyi Graph\")\n",
    "\n",
    "    # Plot 2: Histogram of node degree distribution and Poisson distribution\n",
    "    plt.sca(axs[1]) ## Set active plot \n",
    "    plt.hist(degrees, bins=np.arange(min(degrees)-.5, max(degrees) + 1.5, 1), density=True, alpha=0.6, color='b', label='Degree Distribution')\n",
    "\n",
    "    # Poisson distribution with lambda = mean degree\n",
    "    poisson_dist = sp.stats.poisson.pmf(np.arange(0, max(degrees) + 1), mu = mean_degree)  \n",
    "    \n",
    "    plt.plot(np.arange(0, max(degrees) + 1), poisson_dist, 'r-', lw=2, label=f'Poisson(λ={mean_degree:.2f})')\n",
    "\n",
    "    plt.title('Degree Distribution with Poisson Fit')\n",
    "    plt.xlabel('Degree')\n",
    "    plt.ylabel('Probability')\n",
    "    plt.legend()\n",
    "\n",
    "    plt.tight_layout()\n",
    "    plt.show()\n",
    "    \n",
    "interact(plot_erdos_renyi_graph, \n",
    "         n=IntSlider(min=30, max=500, step=10, value=100, description='Number of Nodes'),\n",
    "         p=FloatSlider(min=0.01, max=.99, step=0.01, value=0.05, description='Edge Probability'))\n",
    "\n"
   ]
  },
  {
   "cell_type": "markdown",
   "id": "3490739d-46ef-4cc5-ba3c-9e7e25c53080",
   "metadata": {},
   "source": [
    "<div style=\"background-color: lightblue; padding: 10px;\">\n",
    "\n",
    "#### Questions\n",
    "\n",
    "1. In Erodos-Renyi Graph generation process, what distribution describes the degree of each node? \n",
    "\n",
    "2. As the number of nodes increases, the degree distribution of the graph apporaches a Poisson distribution. For what values of n and p do you feel the degree distribution is well estimated by the Poisson distribution? \n",
    "\n",
    "3. What is the behavior of the edge distribution at the extreme values of p? When p = 1.0 what distribution do the degrees follow? What is the total number of edges when p = 1.0? \n",
    "    \n",
    " </div>"
   ]
  },
  {
   "cell_type": "markdown",
   "id": "344e556a-a542-493e-a3fc-7db2fd72cf3c",
   "metadata": {},
   "source": [
    "### Power law and scale free networks \n",
    "\n",
    "An alternative degree distribution follows the power law distribution. These networks, often called *scale-free* networks, describe many real-world networks. These graphs are characterized by hubs of of highly connected nodes, and overall short path lengths between nodes. The probability mass function is defined as \n",
    "\n",
    "$$ P(X = k ) \\propto k^{-\\gamma} $$ \n",
    "\n",
    "where $\\gamma$ is a constant usually between 2 and 3. This distrubution means most nodes will only be connected by 1 edge and a few nodes will have most of the edges in the graph. We can generate approximate scale free networks using a graph generation process called the Barabosi-Albert model. The Barabasi-Arbert model is implemented with the following iGraph function: *ig.Graph.Barabasi(n, m, loops = False)* where the input parameters indicate: \n",
    "* n - the total number of vertices\n",
    "* m - the number of outgoing edges generated for each vertex, or a list containing the number of outgoing edges for each vertex. \n",
    "\n",
    "The implementation of the algorithm is described in this seminal paper: Barabási, A-L and Albert, R. 1999. Emergence of scaling in random networks. Science, 286 509-512\n",
    "\n",
    "Briefly, the model is a static time-based generation model. At each time step, a new node is added. Then, from the set of existing nodes, m nodes are sampled. The probability that a node is sampled is proportional to its current degree, such that highly connected nodes are more likely to get additional edges. \n",
    "\n",
    "$$p_i = \\frac{k_i}{\\sum_j k_j}$$\n",
    "\n",
    "This results in higher probability for nodes which are already heavily linked, resulting in an accumulation of edges at these hub nodes.\n",
    "\n",
    "Below is a graph generation process with $n = 20$, and $m = 2$. At each step two nodes are selected by random using the probability defined above. Note the highly connected natiure of the second and third node that are added to the graph. The gif was prepared by Harvath Arpad, in preparation for the NetworkX module in python. "
   ]
  },
  {
   "cell_type": "markdown",
   "id": "acf5bbc4-884c-423e-a05f-cee99986e383",
   "metadata": {},
   "source": [
    "![Barabási–Albert model](Barabasi_Albert_model.gif)"
   ]
  },
  {
   "cell_type": "markdown",
   "id": "e354c276-e214-4759-ba84-f375044c1118",
   "metadata": {},
   "source": [
    "<div style=\"background-color: lightblue; padding: 10px;\">\n",
    "\n",
    "#### Question   \n",
    "* Below are four graphs which have been generated useing the Barabasi algorithm. Describe how increasing m changes the structure of the graph.  \n",
    "    \n",
    "</div>    "
   ]
  },
  {
   "cell_type": "code",
   "execution_count": null,
   "id": "bf77196d-2abc-47f2-86b7-833f7f5dc481",
   "metadata": {},
   "outputs": [],
   "source": [
    "g1 = ig.Graph.Barabasi(30, 1) \n",
    "g2 = ig.Graph.Barabasi(30, 2) \n",
    "g3 = ig.Graph.Barabasi(30, 5) \n",
    "g4 = ig.Graph.Barabasi(30, 20) "
   ]
  },
  {
   "cell_type": "code",
   "execution_count": null,
   "id": "c4bf93e1-f5d6-460b-8c0e-14757f699a53",
   "metadata": {},
   "outputs": [],
   "source": [
    "fig, axs = plt.subplots(2, 2)\n",
    "fig.set_size_inches(12, 10)\n",
    "ig.plot(\n",
    "    g1,\n",
    "    target=axs[0, 0],\n",
    "    #layout=\"circle\",\n",
    "    vertex_color=\"lightblue\", \n",
    "    vertex_size = 5, \n",
    "    edge_width = 0.5\n",
    ")\n",
    "\n",
    "ig.plot(\n",
    "    g2,\n",
    "    target=axs[0, 1],\n",
    "    #layout=\"circle\",\n",
    "    vertex_color=\"lightblue\", \n",
    "    vertex_size = 5,\n",
    "    edge_width = 0.5\n",
    ")\n",
    "\n",
    "ig.plot(\n",
    "    g3,\n",
    "    target=axs[1, 0],\n",
    "    #layout=\"circle\",\n",
    "    vertex_color=\"lightblue\", \n",
    "    vertex_size = 5, \n",
    "    edge_width = 0.5\n",
    ")\n",
    "ig.plot(\n",
    "    g4,\n",
    "    target=axs[1, 1],\n",
    "    #layout=\"circle\",\n",
    "    vertex_color=\"lightblue\", \n",
    "    vertex_size = 5, \n",
    "    edge_width = 0.5\n",
    ")"
   ]
  },
  {
   "cell_type": "markdown",
   "id": "8bc70ba6-f9a6-4eb4-8739-12b097b499d8",
   "metadata": {},
   "source": [
    "Next I have prepared a widget that generates graphs using the Barabasi algorithm. On the left is the generated graph and on the right is the degree distribution. Note we plot the degree distribution on a log-log scale, in which a power-law relationship is represented as a straight line. Shown on the degree distributon plot is a fitted power law function and the reported $\\gamma$ value. "
   ]
  },
  {
   "cell_type": "code",
   "execution_count": null,
   "id": "bda87c9f-4575-4520-b01b-1713e568e192",
   "metadata": {},
   "outputs": [],
   "source": [
    "import ipywidgets as widgets\n",
    "\n",
    "def update_graph(num_nodes, num_edges):\n",
    "    g = ig.Graph.Barabasi(num_nodes, num_edges)\n",
    "    degrees = np.array(g.degree())\n",
    "    degree_counts = np.bincount(degrees)\n",
    "\n",
    "    # Prepare data for fitting the power-law\n",
    "    non_zero_degrees = np.arange(len(degree_counts))[degree_counts > 0]\n",
    "    log_degrees = np.log(non_zero_degrees)\n",
    "    log_counts = np.log(degree_counts[degree_counts > 0])\n",
    "\n",
    "    # Fit the power-law using scipy.stats\n",
    "    slope, intercept, _, _, _ = sp.stats.linregress(log_degrees, log_counts)\n",
    "\n",
    "    # Plot the results\n",
    "    fig, axs = plt.subplots(1, 2)\n",
    "    fig.set_size_inches(12, 10)\n",
    "    \n",
    "    ig.plot(g, target=axs[0], vertex_size=5, edgewidth = 0.15,  layout='kk', vertex_color=\"lightblue\")\n",
    "    plt.title(\"Barabasi-Albert Model\")\n",
    "    \n",
    "    \n",
    "    plt.loglog(non_zero_degrees, degree_counts[degree_counts > 0], marker='o', linestyle='None', label='Empirical Data')\n",
    "    plt.loglog(non_zero_degrees, np.exp(intercept) * non_zero_degrees ** slope, \n",
    "               color='b', linestyle='--', label='Fitted Power-law')\n",
    "    plt.title(f'Degree Distribution with Power-law Fit, gamma: {-slope:.2f}')\n",
    "    plt.xlabel('Degree (k)')\n",
    "    plt.ylabel('Count P(k)')\n",
    "    plt.grid(True)\n",
    "    plt.legend()\n",
    "    plt.show()\n",
    "\n",
    "# Create sliders for parameters\n",
    "num_nodes_slider = widgets.IntSlider(value=5, min=5, max=150, step=10, description='Number of Nodes:')\n",
    "num_edges_slider = widgets.IntSlider(value=1, min=1, max=10, step=1, description='Edges per Node:')\n",
    "\n",
    "# Link the update function to the sliders\n",
    "widgets.interactive(update_graph, num_nodes=num_nodes_slider, num_edges=num_edges_slider)\n"
   ]
  },
  {
   "cell_type": "markdown",
   "id": "6264571a-ead7-49ac-b6d5-29b08106955d",
   "metadata": {},
   "source": [
    "<div style=\"background-color: lightblue; padding: 10px;\">\n",
    "\n",
    "#### Questions\n",
    "    \n",
    "1. Describe the relationship between the wellness of fit of the power-law function and number of nodes in the network. \n",
    "2. Describe the relationhsip between the wellness of fit of the power-law function and the sampling number (m) in the network. \n",
    "3. Compare and contrast the graphs generated by the Barabasi algorithm and the Erdos-Renyi algorithm. \n",
    "</div>    "
   ]
  },
  {
   "cell_type": "markdown",
   "id": "62b8a9a8-c5d3-4a6e-9ded-4883ab3cfcca",
   "metadata": {},
   "source": [
    "### Investigating a gene regulatory network for a fungal species (A. fumigatus)\n",
    "\n",
    "Now we will look at a gene regulatory network (GRN) generated by MERLIN-p. The MERLIN-p algorithm takes in a set of bulk RNA-seq data and infers a GRN. We will not cover the details of the model here but a reference to the paper can be found below:\n",
    "\n",
    "Alireza F. Siahpirani, Sushmita Roy, A prior-based integrative framework for functional transcriptional regulatory network inference, Nucleic Acids Research, Volume 45, Issue 4, 28 February 2017, Page e21, https://doi.org/10.1093/nar/gkw963"
   ]
  },
  {
   "cell_type": "markdown",
   "id": "fbddf349-900f-4b97-b5ad-8ce2f758d9e5",
   "metadata": {},
   "source": [
    "In a recent study, I have applied an extension of MERLIN-p to a collection of publicly available Aspergillus Fumigatus RNA-seq data to a infer a GRN, whose properties we will now investigate. A detailed description of the inferred network and its properties can be found in the bioRxiv preprint below: \n",
    "\n",
    "Cristobal Carrera Carriel, Saptarshi Pyne, Spencer A. Halberg-Spencer, et al.,A network-based model of Aspergillus fumigatus elucidates regulators of development and defensive natural products of an opportunistic pathogen bioRxiv 2023.05.11.538573; doi: https://doi.org/10.1101/2023.05.11.538573"
   ]
  },
  {
   "cell_type": "code",
   "execution_count": null,
   "id": "6595ed57-710f-41a2-b3ef-a0162bdd685d",
   "metadata": {},
   "outputs": [],
   "source": [
    "df = pd.read_csv(\"GRASP_output_net_0_8_sorted.txt\", sep= '\\t', header=None, names=[\"source\", \"target\", \"weight\"])\n",
    "\n",
    "### We need the graph to have ids which are defined based on integers \n",
    "unique_vertices = pd.concat([df['source'], df['target']]).unique()  # Get unique vertex names\n",
    "vertex_map = {vertex: idx for idx, vertex in enumerate(unique_vertices)}  # Create mapping\n",
    "\n",
    "# Step 3: Convert source and target columns to their corresponding numeric indices\n",
    "df['source'] = df['source'].map(vertex_map)\n",
    "df['target'] = df['target'].map(vertex_map)\n",
    "\n",
    "### Convert from dataframe to igraph. \n",
    "g = ig.Graph.DataFrame(df, directed=True)\n",
    "\n",
    "g.es['weight'] = df['weight'].tolist()\n",
    "g.vs[\"name\"] = unique_vertices"
   ]
  },
  {
   "cell_type": "code",
   "execution_count": null,
   "id": "cd5de496-2038-4643-aa67-16178da2006f",
   "metadata": {},
   "outputs": [],
   "source": [
    "g.summary()"
   ]
  },
  {
   "cell_type": "markdown",
   "id": "ac024b50-d9d3-4ae3-b32f-4340c996fe59",
   "metadata": {},
   "source": [
    "The inferred GRN has a total of 5086 genes (nodes) and 6597 edges. Below is a visualization of the inferred graph and the degree distirbution of the inferred network.  "
   ]
  },
  {
   "cell_type": "code",
   "execution_count": null,
   "id": "919f98f9-366c-42fa-95f7-a00913911282",
   "metadata": {},
   "outputs": [],
   "source": [
    "fig.set_size_inches(12, 10) \n",
    "ig.plot(g, \n",
    "        edge_arrow_size=0.5, \n",
    "        vertex_size=5, \n",
    "        edgewidth = 0.15,  \n",
    "        layout='kk', \n",
    "        vertex_color=\"lightblue\")"
   ]
  },
  {
   "cell_type": "code",
   "execution_count": null,
   "id": "7dbcfa3c-573d-4825-b973-ca89bfbaf95c",
   "metadata": {},
   "outputs": [],
   "source": [
    "degrees = np.array(g.degree())\n",
    "degree_counts = np.bincount(degrees)\n",
    "\n",
    "# Prepare data for fitting the power-law\n",
    "non_zero_degrees = np.arange(len(degree_counts))[degree_counts > 0]\n",
    "log_degrees = np.log(non_zero_degrees)\n",
    "log_counts = np.log(degree_counts[degree_counts > 0])\n",
    "slope, intercept, _, _, _ = sp.stats.linregress(log_degrees, log_counts)\n",
    "\n",
    "    \n",
    "plt.loglog(non_zero_degrees, degree_counts[degree_counts > 0], marker='o', linestyle='None', label='Empirical Data')\n",
    "plt.loglog(non_zero_degrees, np.exp(intercept) * non_zero_degrees ** slope, \n",
    "               color='b', linestyle='--', label='Fitted Power-law')\n",
    "plt.title(f'Degree Distribution with Power-law Fit, gamma: {-slope:.2f}')\n",
    "plt.xlabel('Degree (k)')\n",
    "plt.ylabel('Count P(k)')\n",
    "plt.grid(True)\n",
    "plt.legend()\n",
    "plt.show()"
   ]
  },
  {
   "cell_type": "markdown",
   "id": "02900e52-af6c-4eef-9ada-47da55c7e22d",
   "metadata": {},
   "source": [
    "<div style=\"background-color: lightblue; padding: 10px;\">\n",
    "\n",
    "#### Questions\n",
    "    \n",
    "1. Would you describe the inferred GRN as scale-free? \n",
    "2. What does the inferred GRN structure tell us about gene regulation? \n",
    "     \n",
    "</div>    "
   ]
  },
  {
   "cell_type": "markdown",
   "id": "130f3c0f-3aef-40a8-b82a-de00cee623b1",
   "metadata": {},
   "source": [
    "### Module detection in the Karate Club network"
   ]
  },
  {
   "cell_type": "markdown",
   "id": "28cb2dbc-b620-4525-b81d-b6c3e72731ec",
   "metadata": {},
   "source": [
    "Next we will explore community detection in the karate club network. This network connects 34 members of a karate club at a US university in the 1970s. The 78 edges represent the relationship between individuals in the karate club. The graph was first cited in this paper: \n",
    "\n",
    "W. W. Zachary, An information flow model for conflict and fission in small groups, Journal of Anthropological Research 33, 452-473 (1977).\n",
    "\n",
    "We will use this network to explore clustering and community detection within graphs. A community is a group of nodes. The metric and method we use to group nodes in a graph poses an unsupervised learning problem. Different approaches may be better in different contexts. "
   ]
  },
  {
   "cell_type": "code",
   "execution_count": null,
   "id": "79a7f824-da7f-4d50-b459-16ed9d791bb4",
   "metadata": {},
   "outputs": [],
   "source": [
    "karate = ig.Graph.Famous(\"Zachary\")\n",
    "print(karate.summary())\n",
    "\n",
    "layout = karate.layout('kk')\n",
    "\n",
    "ig.plot(karate, \n",
    "        vertex_size=20,\n",
    "        layout = layout, \n",
    "        edgewidth = 0.15,  \n",
    "        vertex_color=\"lightblue\")"
   ]
  },
  {
   "cell_type": "markdown",
   "id": "6c55733a-290d-4352-b9f8-7ee476573934",
   "metadata": {},
   "source": [
    "### Louvain and Leiden clustering"
   ]
  },
  {
   "cell_type": "markdown",
   "id": "89a03413-fef2-4a4b-8be2-924c4f85e480",
   "metadata": {},
   "source": [
    "Louvain and Leiden clustering belong to a class of graph clustering algorithms widely used in the biomedical domain. They utilize a metric called *modularity* to define optimimal clusters. As optimizing the modularity of a graph is an NP-hard problem, the two algorithms utilize greedy approaches. We will not go into the details of the implementation of these agorithms or their differences; here is a great review for additional reading: \n",
    "\n",
    "Traag, V.A., Waltman, L. & van Eck, N.J. From Louvain to Leiden: guaranteeing well-connected communities. Sci Rep 9, 5233 (2019). https://doi.org/10.1038/s41598-019-41695-z\n",
    "\n",
    "Modularity is defined as: \n",
    "\n",
    "$$ Q = \\frac{1}{2m} \\sum_{i,j} \\left[ A_{i,j} - \\frac{{k_i}{k_j}}{2m} \\right] \\delta(c_i, c_j) $$ \n",
    "\n",
    "Here $m$ represents the total sum of the edge weights (or the number of edges in an unweighted, undirected network); $k_i$ represents the degree of node $i$; $\\delta()$ is an indicator which equals 1 if node $i$ is in the same cluster as node $j$. The Leiden algorithm is implemented in the igraph framework using the *community_leiden(resolution)*. Increasing the resolution of parameter will increase the number of clusters, i.e. have more resolved communities. "
   ]
  },
  {
   "cell_type": "code",
   "execution_count": null,
   "id": "e60bf3f9-5e08-481c-87cf-d928e9a090f6",
   "metadata": {},
   "outputs": [],
   "source": [
    "def plot_leiden_clusters(resolution):\n",
    "    \n",
    "    communities = karate.community_leiden(resolution = resolution)\n",
    "    n_pal = len(communities)\n",
    "    palette = ig.RainbowPalette(n=n_pal)\n",
    "    for i, community in enumerate(communities):\n",
    "        karate.vs[community][\"color\"] = i\n",
    "    \n",
    "    fig, ax = plt.subplots()\n",
    "    ig.plot(karate,\n",
    "        edge_color = 'grey', \n",
    "        layout = layout,\n",
    "        palette = palette,\n",
    "        target = ax, \n",
    "        vertex_label = list(range(karate.vcount())),\n",
    "        vertex_size = 20, \n",
    "    )"
   ]
  },
  {
   "cell_type": "code",
   "execution_count": null,
   "id": "75683135-5c23-4a5a-a237-268b11047c2e",
   "metadata": {},
   "outputs": [],
   "source": [
    "plot_leiden_clusters(0.1)"
   ]
  },
  {
   "cell_type": "code",
   "execution_count": null,
   "id": "c2470482-6db1-4137-bffe-6b3f6f6f38fd",
   "metadata": {},
   "outputs": [],
   "source": [
    "resolution_slider = widgets.FloatSlider(value=0.01, min=0.01, max=2.0, step=.01, description='Resolution')\n",
    "# Link the update function to the sliders\n",
    "widgets.interactive(plot_leiden_clusters, resolution=resolution_slider)"
   ]
  },
  {
   "cell_type": "markdown",
   "id": "4b0a5fbb-91d5-4616-b9b8-bbee7d79571f",
   "metadata": {},
   "source": [
    "<div style=\"background-color: lightblue; padding: 10px;\">\n",
    "\n",
    "#### Questions\n",
    "    \n",
    "1. How does resolution change the clustering result? \n",
    "    \n",
    "2. How would you determine the best or the most suitable clustering result from different resolutions?\n",
    "     \n",
    "</div>    "
   ]
  },
  {
   "cell_type": "markdown",
   "id": "91adbfa1-4bd7-4b3c-a16c-2fd155cbe4bd",
   "metadata": {},
   "source": [
    "### Hierarchical clustering and the Girvan-Newman algorithm\n",
    "\n",
    "The Girvan-Newman algorithm uses *betweenness* as an indicator of nodes and edges that are critical or central to connecting a network. We can think about betweenness as a measure of how important or necessary a node or an edge is for connecting the shortest paths between pairs of nodes. *Node (or edge) betweenness* is the proportion of shortest paths in the network that the given node (edge) is part of. \n",
    "\n",
    "The algorithm follows these steps: \n",
    "1. Calculate the betweenness of all edges.\n",
    "2. Remove the edges with the highest betweenness. \n",
    "3. Update the betweenness of all edges affected by the removal.\n",
    "4. Repeat step 2 and 3 until all edges are removed. \n",
    "\n",
    "The algorithm generates a dendrogram from root to leaves (i.e., top-down clustering). The leaves of the dendrogram represent individual nodes, and the inner branches represent community of nodes which are still connected."
   ]
  },
  {
   "cell_type": "code",
   "execution_count": null,
   "id": "d019ad0a-ccc7-49e5-9e1b-dfb3bc235c9f",
   "metadata": {},
   "outputs": [],
   "source": [
    "def girvan_newman(g):\n",
    "    # Create a copy of the graph to modify\n",
    "    graph = g.copy()\n",
    "    \n",
    "    #### identify the connected comps\n",
    "    comps = graph.components()\n",
    "    num_comps = len(comps)\n",
    "    palette = ig.RainbowPalette(n=num_comps)\n",
    "    for i, community in enumerate(comps):\n",
    "        graph.vs[community][\"color\"] = i\n",
    "    \n",
    "    ### identify edge color \n",
    "    edge_betweenness = graph.edge_betweenness()\n",
    "    max_betweenness = max(edge_betweenness)\n",
    "    min_betweenness = min(edge_betweenness)\n",
    "    \n",
    "    if(len(edge_betweenness) > 0):\n",
    "        edge_colors = [plt.cm.viridis((eb - min_betweenness) / (max_betweenness - min_betweenness)) for eb in edge_betweenness]\n",
    "        graph.es[\"color\"] = edge_colors\n",
    "    \n",
    "    \n",
    "    # Store the initial graph object. \n",
    "    subgraphs = list()\n",
    "    copy_graph = graph.copy()\n",
    "    subgraphs.append(copy_graph)\n",
    "    \n",
    "    \n",
    "    while len(graph.es) > 0 :\n",
    "        ## Find Edge to remove\n",
    "        edge_betweenness = graph.edge_betweenness()\n",
    "        max_betweenness_index = np.argmax(edge_betweenness)\n",
    "        graph.delete_edges(max_betweenness_index)\n",
    "\n",
    "        \n",
    "        \n",
    "        #### identify the connected comps\n",
    "        comps = graph.components()\n",
    "        num_comps = len(comps)\n",
    "        palette = ig.RainbowPalette(n=num_comps)\n",
    "        for i, community in enumerate(comps):\n",
    "            graph.vs[community][\"color\"] = i\n",
    "        \n",
    "        # Recompute edge_betweenness \n",
    "        edge_betweenness = graph.edge_betweenness()\n",
    "     \n",
    "        # Store the initial graph object.\n",
    "        if(len(edge_betweenness) > 0): ## Need edges\n",
    "            max_betweenness = max(edge_betweenness)\n",
    "            min_betweenness = min(edge_betweenness)\n",
    "            \n",
    "            if(max_betweenness - min_betweenness > 0 ):\n",
    "                edge_colors = [\n",
    "                    plt.cm.viridis(1 - (eb - min_betweenness) / (max_betweenness - min_betweenness)) for eb in edge_betweenness\n",
    "                ]\n",
    "                graph.es[\"color\"] = edge_colors\n",
    "        \n",
    "        copy_graph = graph.copy()\n",
    "        subgraphs.append(copy_graph)\n",
    "    return subgraphs\n",
    "\n",
    "\n",
    "def plot_graphs(index):\n",
    "    subgraph = subgraphs[index]\n",
    "    n_pal = max(subgraph.vs[\"color\"]) + 1\n",
    "    palette = ig.RainbowPalette(n=n_pal)\n",
    "    \n",
    "    fig, axs = plt.subplots(1, 3)\n",
    "    fig.set_size_inches(30, 10)\n",
    "    \n",
    "    ig.plot(subgraph,\n",
    "        edge_color = 'grey', \n",
    "        layout = layout,\n",
    "        target = axs[1],\n",
    "        palette = palette,\n",
    "        vertex_label = list(range(subgraph.vcount())),\n",
    "        vertex_size = 20, \n",
    "    )\n",
    "\n",
    "    ig.plot(subgraph, \n",
    "        layout = layout, \n",
    "        vertex_color = \"grey\",\n",
    "        vertex_size = 20,\n",
    "        vertex_label = list(range(subgraph.vcount())), \n",
    "        target = axs[0])\n",
    "    \n",
    "    dendro = karate.community_edge_betweenness(directed=False, clusters = n_pal)\n",
    "    #clusters = dendro.as_clustering()\n",
    "    #node_pal = palette[subgraph.vs[\"color\"]]\n",
    "    ig.plot(dendro, target = axs[2], orientation = \"top-bottom\")\n"
   ]
  },
  {
   "cell_type": "code",
   "execution_count": null,
   "id": "6b7cec0c-a563-453a-a92c-5c92236350d1",
   "metadata": {},
   "outputs": [],
   "source": [
    "subgraphs = girvan_newman(karate)\n",
    "\n",
    "num_edges_slider = widgets.IntSlider(value=0, min=0, max=len(subgraphs)-1, step=1, description='Edges removed')\n",
    "# Link the update function to the sliders\n",
    "widgets.interactive(plot_graphs, index=num_edges_slider)"
   ]
  },
  {
   "cell_type": "markdown",
   "id": "e3183c2d-b6e0-4287-aa17-ab5b5dd29a71",
   "metadata": {},
   "source": [
    "In the visualization above, we can see how the node communities are determined based on the edge betweenness. The first panel represents the edge betweenness score. Higher edge betweenness is indicated by brighter (yellow) color.  At each iteration we remove the edge with the highest betweenness; in the first iteration, this is the edge between nodes 0 and 31. After 11 edges are removed, we have the first split in the dendrogram that creates two communities. This process is repeated until all edges are removed and each node is assigned to its own single-node cluster. "
   ]
  },
  {
   "cell_type": "markdown",
   "id": "5c2afaeb-af5a-43cf-86e5-62215fbfc834",
   "metadata": {},
   "source": [
    "<div style=\"background-color: lightblue; padding: 10px;\">\n",
    "\n",
    "#### Questions\n",
    "    \n",
    "1. How would you decide the optimal threshold to define clusters in the dendrogram, i.e. which level of the tree to use? \n",
    "    \n",
    "2. In the example above, node 9 splits off to its own single-node cluster relatively early. What might this say about node 9's properties?\n",
    "    \n",
    "3. What are the similarities and differences between the clusters from Leiden and Girvan-Newman clustering?\n",
    "        \n",
    "</div>    "
   ]
  },
  {
   "cell_type": "markdown",
   "id": "95859b22-d964-438a-a69d-8389ca82151b",
   "metadata": {},
   "source": [
    "### Spectral clustering"
   ]
  },
  {
   "cell_type": "markdown",
   "id": "1085408a-7e36-4448-b58c-9df088eb5b17",
   "metadata": {},
   "source": [
    "The final algorithm that we will explore is spectral clustering. Spectral clustering utilizes the the graph Laplacian, which is a matrix that captures the intrinsic properties of a graph. A graph can be represented as an adjacendy matrix $A$, where each entry $A_{i,j}$ denotes the existence of an edge or the edge weight between node $i$ and node $j$.\n",
    "\n",
    "The standard graph Laplacian $L$ is calculated using $A$ and $D$. $D$ is diagonal matrix in which each diagonal element is the degree of the node, i.e. $D_{i,i} = \\sum_j A_{i,j}$.\n",
    "\n",
    "$$ L = D - A $$ \n",
    "\n",
    "\n",
    "There are other ways of constructing the graph Laplacian, e.g. the normalized Graph Laplacian. You can look up these other versions and learn about why they might be used in different situations.\n",
    "\n",
    "Spectral clustering follow the steps:\n",
    "1. Define the graph Laplacian matrix. \n",
    "2. Compute the eigenvector representation of the Laplacian. \n",
    "3. Select the first k eigenvectors as node embeddings.\n",
    "4. Cluster the nodes using the eigenvector-based embeddings, using a clustering algorithm like k-means.\n",
    "\n",
    "The algorithm is implemented below."
   ]
  },
  {
   "cell_type": "code",
   "execution_count": null,
   "id": "1afc9c2f-9b39-4b56-b914-1ab71c2e28c3",
   "metadata": {},
   "outputs": [],
   "source": [
    "def spectral_clustering(graph, clusters, normalized = False): \n",
    "    ## find the laplacian matrix\n",
    "    laplacian = graph.laplacian(normalized = normalized)\n",
    "    eig_vals, eig_vects = np.linalg.eigh(laplacian) ## we can use eigh for symetric graphs and its faster! \n",
    "    best_eigens = [ i for i in range(clusters)]\n",
    "    LX = eig_vects[:,best_eigens]  ## select these eign vectors  \n",
    "    ## Normalize the eig vect rowwise. \n",
    "    LX = (LX.T / np.linalg.norm(LX, axis=1)).T\n",
    "    \n",
    "    ## Cluster with kmeans \n",
    "    km = KMeans(n_clusters=clusters, n_init=20)\n",
    "    km.fit(LX)\n",
    "    y_pred = km.labels_\n",
    "    graph.vs[\"color\"] = y_pred\n",
    "    \n",
    "def plot_sectral_clusters(k):\n",
    "    ## Perform Spectral clustering on karate\n",
    "    spectral_clustering(karate, k)\n",
    "    \n",
    "    palette = ig.RainbowPalette(k)\n",
    "    fig, ax = plt.subplots()\n",
    "    ig.plot(karate,\n",
    "        edge_color = 'grey', \n",
    "        layout = layout,\n",
    "        palette = palette,\n",
    "        target = ax, \n",
    "        vertex_label = list(range(karate.vcount())),\n",
    "        vertex_size = 20, \n",
    "    ) "
   ]
  },
  {
   "cell_type": "code",
   "execution_count": null,
   "id": "55a74b93-2710-4eed-9cdf-cd11cdb1a288",
   "metadata": {},
   "outputs": [],
   "source": [
    "k_slider = widgets.IntSlider(value=2, min=2, max=33, step=1, description='K')\n",
    "# Link the update function to the sliders\n",
    "widgets.interactive(plot_sectral_clusters, k=k_slider)"
   ]
  },
  {
   "cell_type": "code",
   "execution_count": null,
   "id": "b75142c1-3760-4c46-b8a0-ec4e9e710065",
   "metadata": {},
   "outputs": [],
   "source": [
    "def plot_sectral_clusters(k):\n",
    "    ## Perform Spectral clustering on karate\n",
    "    spectral_clustering(karate, k, normalized = True)\n",
    "    \n",
    "    palette = ig.RainbowPalette(k)\n",
    "    fig, ax = plt.subplots()\n",
    "    ig.plot(karate,\n",
    "        edge_color = 'grey', \n",
    "        layout = layout,\n",
    "        palette = palette,\n",
    "        target = ax, \n",
    "        vertex_label = list(range(karate.vcount())),\n",
    "        vertex_size = 20, \n",
    "    ) \n",
    "    \n",
    "k_slider = widgets.IntSlider(value=2, min=2, max=33, step=1, description='K')\n",
    "# Link the update function to the sliders\n",
    "widgets.interactive(plot_sectral_clusters, k=k_slider)"
   ]
  },
  {
   "cell_type": "markdown",
   "id": "b6d9ab76-14af-4f7d-98fc-1d506271211f",
   "metadata": {},
   "source": [
    "<div style=\"background-color: lightblue; padding: 10px;\">\n",
    "\n",
    "#### Questions\n",
    "    \n",
    "1. Which k would you select to best represent the structure in the karate club graph? \n",
    "\n",
    "2. How does using the normalized Laplacian (bottom) differ from using the standard Laplacian (top)? \n",
    "    \n",
    "3. Which of the three clustering algorithms do you think works best on the karate club graph? Why? \n",
    "</div>    "
   ]
  },
  {
   "cell_type": "markdown",
   "id": "c6a56c0d-db00-485c-8ab9-c24a716aae2c",
   "metadata": {},
   "source": [
    "<div style=\"background-color: lightgreen; padding: 10px;\">\n",
    "\n",
    "#### Challenge\n",
    "    \n",
    "In the space below, select one of the three clustering algorithms from above and explore clustering on a large GRN or another biological network. Consider the following:  \n",
    "\n",
    "1. How are you defining what yields \"good\" clusterings of the network? \n",
    "2. How do you determine the correct number of clusters?\n",
    "3. If you are clustering on a GRN: what might each gene cluster represent? How would you evaluate whether these gene clusters contain biologically meaningful information? \n",
    "\n",
    "</div>    "
   ]
  },
  {
   "cell_type": "code",
   "execution_count": null,
   "id": "d4fa3300",
   "metadata": {},
   "outputs": [],
   "source": []
  }
 ],
 "metadata": {
  "kernelspec": {
   "display_name": "Python 3 (ipykernel)",
   "language": "python",
   "name": "python3"
  },
  "language_info": {
   "codemirror_mode": {
    "name": "ipython",
    "version": 3
   },
   "file_extension": ".py",
   "mimetype": "text/x-python",
   "name": "python",
   "nbconvert_exporter": "python",
   "pygments_lexer": "ipython3",
   "version": "3.13.0"
  }
 },
 "nbformat": 4,
 "nbformat_minor": 5
}
